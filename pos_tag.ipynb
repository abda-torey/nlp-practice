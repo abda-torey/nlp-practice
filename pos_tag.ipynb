{
 "cells": [
  {
   "cell_type": "code",
   "execution_count": 1,
   "id": "4ae58246",
   "metadata": {},
   "outputs": [],
   "source": [
    "import spacy"
   ]
  },
  {
   "cell_type": "code",
   "execution_count": 2,
   "id": "bc8281c3",
   "metadata": {},
   "outputs": [],
   "source": [
    "nlp = spacy.load('en_core_web_sm')"
   ]
  },
  {
   "cell_type": "code",
   "execution_count": 3,
   "id": "13bec180",
   "metadata": {},
   "outputs": [],
   "source": [
    "doc = nlp(u\"the quick brown fox jumped over the lazy dog's back\")"
   ]
  },
  {
   "cell_type": "code",
   "execution_count": 10,
   "id": "64ce15c1",
   "metadata": {},
   "outputs": [
    {
     "name": "stdout",
     "output_type": "stream",
     "text": [
      "the        DET      DT       determiner\n",
      "quick      ADJ      JJ       adjective\n",
      "brown      ADJ      JJ       adjective\n",
      "fox        NOUN     NN       noun, singular or mass\n",
      "jumped     VERB     VBD      verb, past tense\n",
      "over       ADP      IN       conjunction, subordinating or preposition\n",
      "the        DET      DT       determiner\n",
      "lazy       ADJ      JJ       adjective\n",
      "dog        NOUN     NN       noun, singular or mass\n",
      "'s         PART     POS      possessive ending\n",
      "back       NOUN     NN       noun, singular or mass\n"
     ]
    }
   ],
   "source": [
    "for token in doc:\n",
    "    print(f'{token.text:{10}} {token.pos_:{8}} {token.tag_:{8}} {spacy.explain(token.tag_)}')"
   ]
  },
  {
   "cell_type": "code",
   "execution_count": 11,
   "id": "4e4688ea",
   "metadata": {},
   "outputs": [
    {
     "data": {
      "text/plain": [
       "{83: 3, 99: 1, 84: 1, 89: 2, 91: 3, 93: 1}"
      ]
     },
     "execution_count": 11,
     "metadata": {},
     "output_type": "execute_result"
    }
   ],
   "source": [
    "pos_counts = doc.count_by(spacy.attrs.POS)\n",
    "pos_counts"
   ]
  },
  {
   "cell_type": "code",
   "execution_count": 13,
   "id": "2595db5a",
   "metadata": {},
   "outputs": [
    {
     "name": "stdout",
     "output_type": "stream",
     "text": [
      "        83 ADJ                 3\n",
      "        84 ADP                 1\n",
      "        89 DET                 2\n",
      "        91 NOUN                3\n",
      "        93 PART                1\n",
      "        99 VERB                1\n"
     ]
    }
   ],
   "source": [
    "for k,v in sorted(pos_counts.items()):\n",
    "    print(f'{k:{10}} {doc.vocab[k].text:{10}} {v:{10}}')"
   ]
  },
  {
   "cell_type": "code",
   "execution_count": null,
   "id": "a9ad47e0",
   "metadata": {},
   "outputs": [],
   "source": []
  }
 ],
 "metadata": {
  "kernelspec": {
   "display_name": "Python 3 (ipykernel)",
   "language": "python",
   "name": "python3"
  },
  "language_info": {
   "codemirror_mode": {
    "name": "ipython",
    "version": 3
   },
   "file_extension": ".py",
   "mimetype": "text/x-python",
   "name": "python",
   "nbconvert_exporter": "python",
   "pygments_lexer": "ipython3",
   "version": "3.7.16"
  }
 },
 "nbformat": 4,
 "nbformat_minor": 5
}
