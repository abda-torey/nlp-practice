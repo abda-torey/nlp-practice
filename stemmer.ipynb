{
 "cells": [
  {
   "cell_type": "code",
   "execution_count": 1,
   "id": "fe163d3f",
   "metadata": {},
   "outputs": [
    {
     "name": "stderr",
     "output_type": "stream",
     "text": [
      "C:\\Users\\Torey\\anaconda3\\envs\\nlp_course\\lib\\site-packages\\sklearn\\utils\\validation.py:37: DeprecationWarning: distutils Version classes are deprecated. Use packaging.version instead.\n",
      "  LARGE_SPARSE_SUPPORTED = LooseVersion(scipy_version) >= '0.14.0'\n"
     ]
    }
   ],
   "source": [
    "import nltk"
   ]
  },
  {
   "cell_type": "code",
   "execution_count": 9,
   "id": "19c4c878",
   "metadata": {},
   "outputs": [],
   "source": [
    "from nltk.stem.porter import PorterStemmer\n",
    "from nltk.stem.snowball import SnowballStemmer\n",
    "p_stemmer = PorterStemmer()\n",
    "s_stemmer = SnowballStemmer(language='english')"
   ]
  },
  {
   "cell_type": "code",
   "execution_count": 11,
   "id": "db838893",
   "metadata": {},
   "outputs": [],
   "source": [
    "words = ['run','ran','running','fairly','runner','sleeping','moody','unrealistic','realistic']"
   ]
  },
  {
   "cell_type": "code",
   "execution_count": 12,
   "id": "79fd53bb",
   "metadata": {},
   "outputs": [
    {
     "name": "stdout",
     "output_type": "stream",
     "text": [
      "run---->run\n",
      "ran---->ran\n",
      "running---->run\n",
      "fairly---->fairli\n",
      "runner---->runner\n",
      "sleeping---->sleep\n",
      "moody---->moodi\n",
      "unrealistic---->unrealist\n",
      "realistic---->realist\n",
      "....................................\n",
      "run ----> run\n",
      "ran ----> ran\n",
      "running ----> run\n",
      "fairly ----> fair\n",
      "runner ----> runner\n",
      "sleeping ----> sleep\n",
      "moody ----> moodi\n",
      "unrealistic ----> unrealist\n",
      "realistic ----> realist\n"
     ]
    }
   ],
   "source": [
    "for word in words:\n",
    "    print(word+ '---->' + p_stemmer.stem(word))\n",
    "print('....................................')    \n",
    "for word in words:\n",
    "    \n",
    "    print(word + ' ----> ' + s_stemmer.stem(word))"
   ]
  },
  {
   "cell_type": "code",
   "execution_count": null,
   "id": "b564e990",
   "metadata": {},
   "outputs": [],
   "source": []
  }
 ],
 "metadata": {
  "kernelspec": {
   "display_name": "Python 3 (ipykernel)",
   "language": "python",
   "name": "python3"
  },
  "language_info": {
   "codemirror_mode": {
    "name": "ipython",
    "version": 3
   },
   "file_extension": ".py",
   "mimetype": "text/x-python",
   "name": "python",
   "nbconvert_exporter": "python",
   "pygments_lexer": "ipython3",
   "version": "3.7.16"
  }
 },
 "nbformat": 4,
 "nbformat_minor": 5
}
