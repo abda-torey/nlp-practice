{
 "cells": [
  {
   "cell_type": "code",
   "execution_count": 4,
   "id": "f86de753",
   "metadata": {},
   "outputs": [],
   "source": [
    "import spacy"
   ]
  },
  {
   "cell_type": "code",
   "execution_count": 5,
   "id": "41042db8",
   "metadata": {},
   "outputs": [],
   "source": [
    "nlp = spacy.load('en_core_web_sm')"
   ]
  },
  {
   "cell_type": "code",
   "execution_count": 16,
   "id": "f271d9b4",
   "metadata": {},
   "outputs": [],
   "source": [
    "from spacy.tokens import Span\n",
    "from spacy.matcher import PhraseMatcher\n",
    "matcher = PhraseMatcher(nlp.vocab)"
   ]
  },
  {
   "cell_type": "code",
   "execution_count": 24,
   "id": "c41f5a1f",
   "metadata": {},
   "outputs": [
    {
     "data": {
      "text/plain": [
       "this qarxiso has been in the market for quite sometimes the somali-qarxiso is well known to be used by women for bleaching purposes the dirac worn by girls is entirely see thru making it controvesial in the masaajid"
      ]
     },
     "execution_count": 24,
     "metadata": {},
     "output_type": "execute_result"
    }
   ],
   "source": [
    "doc = nlp(u\"this qarxiso has been in the market for quite sometimes\"\n",
    "         u\" the somali-qarxiso is well known to be used by women for bleaching purposes\"\n",
    "         u\" the dirac worn by girls is entirely see thru making it controvesial in the masaajid\")\n",
    "doc"
   ]
  },
  {
   "cell_type": "code",
   "execution_count": 25,
   "id": "3357192e",
   "metadata": {},
   "outputs": [],
   "source": [
    "def show_ents(doc):\n",
    "    if doc.ents:\n",
    "        for ent in doc.ents:\n",
    "            print(f'{ent.text:{10}}{ent.label_:{10}} {str(spacy.explain(ent.label_))}')\n",
    "    \n",
    "    else:\n",
    "        print('No entities Found')"
   ]
  },
  {
   "cell_type": "code",
   "execution_count": 26,
   "id": "0bc0d63d",
   "metadata": {},
   "outputs": [
    {
     "name": "stdout",
     "output_type": "stream",
     "text": [
      "No entities Found\n"
     ]
    }
   ],
   "source": [
    "show_ents(doc)"
   ]
  },
  {
   "cell_type": "code",
   "execution_count": 46,
   "id": "959da6d4",
   "metadata": {},
   "outputs": [],
   "source": [
    "phrase_list = ['qarxiso','somali-qarxiso','dirac']\n",
    "\n",
    "\n",
    "phrase_patterns = [nlp(text) for text in phrase_list1]\n"
   ]
  },
  {
   "cell_type": "code",
   "execution_count": 47,
   "id": "c4ceaff0",
   "metadata": {},
   "outputs": [],
   "source": [
    "\n",
    "matcher.add('newProds',None, *phrase_patterns)"
   ]
  },
  {
   "cell_type": "code",
   "execution_count": 49,
   "id": "7503df6b",
   "metadata": {},
   "outputs": [
    {
     "data": {
      "text/plain": [
       "[(4741982222682253424, 1, 2),\n",
       " (4741982222682253424, 11, 14),\n",
       " (4741982222682253424, 13, 14),\n",
       " (4741982222682253424, 26, 27)]"
      ]
     },
     "execution_count": 49,
     "metadata": {},
     "output_type": "execute_result"
    }
   ],
   "source": [
    "found_matches = matcher(doc)\n",
    "found_matches"
   ]
  },
  {
   "cell_type": "code",
   "execution_count": 51,
   "id": "b2ce90f4",
   "metadata": {},
   "outputs": [
    {
     "data": {
      "text/plain": [
       "[qarxiso, somali-qarxiso, qarxiso, dirac]"
      ]
     },
     "execution_count": 51,
     "metadata": {},
     "output_type": "execute_result"
    }
   ],
   "source": [
    "PROD = doc.vocab.strings[u\"PRODUCT\"]\n",
    "new_ents = [Span(doc,match[1],match[2], label=PROD) for match in found_matches]\n",
    "new_ents"
   ]
  },
  {
   "cell_type": "code",
   "execution_count": 52,
   "id": "95a1d40d",
   "metadata": {},
   "outputs": [
    {
     "name": "stdout",
     "output_type": "stream",
     "text": [
      "qarxiso   PRODUCT    Objects, vehicles, foods, etc. (not services)\n",
      "somali-   PRODUCT    Objects, vehicles, foods, etc. (not services)\n",
      "qarxiso   PRODUCT    Objects, vehicles, foods, etc. (not services)\n",
      "dirac     PRODUCT    Objects, vehicles, foods, etc. (not services)\n"
     ]
    }
   ],
   "source": [
    "doc.ents = list(doc.ents) + new_ents\n",
    "show_ents(doc)"
   ]
  },
  {
   "cell_type": "code",
   "execution_count": 55,
   "id": "0ef9e15d",
   "metadata": {},
   "outputs": [
    {
     "data": {
      "text/plain": [
       "4"
      ]
     },
     "execution_count": 55,
     "metadata": {},
     "output_type": "execute_result"
    }
   ],
   "source": [
    "len([ent for ent in doc.ents if ent.label_ == \"PRODUCT\"])"
   ]
  },
  {
   "cell_type": "code",
   "execution_count": null,
   "id": "ea0f065a",
   "metadata": {},
   "outputs": [],
   "source": []
  }
 ],
 "metadata": {
  "kernelspec": {
   "display_name": "Python 3 (ipykernel)",
   "language": "python",
   "name": "python3"
  },
  "language_info": {
   "codemirror_mode": {
    "name": "ipython",
    "version": 3
   },
   "file_extension": ".py",
   "mimetype": "text/x-python",
   "name": "python",
   "nbconvert_exporter": "python",
   "pygments_lexer": "ipython3",
   "version": "3.7.16"
  }
 },
 "nbformat": 4,
 "nbformat_minor": 5
}
