{
 "cells": [
  {
   "cell_type": "code",
   "execution_count": 1,
   "id": "c1372e9b",
   "metadata": {},
   "outputs": [],
   "source": [
    "import spacy\n"
   ]
  },
  {
   "cell_type": "code",
   "execution_count": 2,
   "id": "f45b6148",
   "metadata": {},
   "outputs": [],
   "source": [
    "nlp = spacy.load('en_core_web_sm')"
   ]
  },
  {
   "cell_type": "code",
   "execution_count": 10,
   "id": "22ade00b",
   "metadata": {},
   "outputs": [],
   "source": [
    "def show_ents(doc):\n",
    "    if doc.ents:\n",
    "        for ent in doc.ents:\n",
    "            print(f'{ent.text:{10}} {ent.label_:{10}} {spacy.explain(ent.label_)}')\n",
    "    else:\n",
    "        print('no entities found')"
   ]
  },
  {
   "cell_type": "code",
   "execution_count": 54,
   "id": "b1d94e7b",
   "metadata": {},
   "outputs": [],
   "source": [
    "doc = nlp(u\"we have produced more vacuum cleaners than any toher time before.\"\n",
    "         u\"the vacuum-cleaners that was bought from us has surpassed other items\")"
   ]
  },
  {
   "cell_type": "code",
   "execution_count": 55,
   "id": "46caabe3",
   "metadata": {},
   "outputs": [
    {
     "name": "stdout",
     "output_type": "stream",
     "text": [
      "no entities found\n"
     ]
    }
   ],
   "source": [
    "show_ents(doc)"
   ]
  },
  {
   "cell_type": "code",
   "execution_count": 57,
   "id": "c689bd77",
   "metadata": {},
   "outputs": [],
   "source": [
    "from spacy.tokens import Span\n",
    "from spacy.matcher import PhraseMatcher"
   ]
  },
  {
   "cell_type": "code",
   "execution_count": 58,
   "id": "58514fc7",
   "metadata": {
    "scrolled": true
   },
   "outputs": [],
   "source": [
    "matcher = PhraseMatcher(nlp.vocab)"
   ]
  },
  {
   "cell_type": "code",
   "execution_count": 59,
   "id": "82d3bb0f",
   "metadata": {},
   "outputs": [
    {
     "data": {
      "text/plain": [
       "[vacuum cleaners, vacuum-cleaners]"
      ]
     },
     "execution_count": 59,
     "metadata": {},
     "output_type": "execute_result"
    }
   ],
   "source": [
    "phrase_list = ['vacuum cleaners','vacuum-cleaners']\n",
    "phrase_patterns = [nlp(text) for text in phrase_list]\n",
    "phrase_patterns"
   ]
  },
  {
   "cell_type": "code",
   "execution_count": 60,
   "id": "3f4787b4",
   "metadata": {},
   "outputs": [
    {
     "data": {
      "text/plain": [
       "[(4452177204818730156, 4, 6), (4452177204818730156, 11, 14)]"
      ]
     },
     "execution_count": 60,
     "metadata": {},
     "output_type": "execute_result"
    }
   ],
   "source": [
    "matcher.add('newProduct',None,*phrase_patterns)\n",
    "found_matches = matcher(doc)\n",
    "found_matches"
   ]
  },
  {
   "cell_type": "code",
   "execution_count": 62,
   "id": "96b7ca10",
   "metadata": {},
   "outputs": [
    {
     "data": {
      "text/plain": [
       "384"
      ]
     },
     "execution_count": 62,
     "metadata": {},
     "output_type": "execute_result"
    }
   ],
   "source": [
    "PROD = doc.vocab.strings[u\"PRODUCT\"]\n",
    "PROD"
   ]
  },
  {
   "cell_type": "code",
   "execution_count": 64,
   "id": "9f9d9419",
   "metadata": {},
   "outputs": [
    {
     "data": {
      "text/plain": [
       "[vacuum cleaners, vacuum-cleaners]"
      ]
     },
     "execution_count": 64,
     "metadata": {},
     "output_type": "execute_result"
    }
   ],
   "source": [
    "\n",
    "new_ents = [Span(doc,match[1],match[2],label=PROD) for match in found_matches]\n",
    "new_ents\n"
   ]
  },
  {
   "cell_type": "code",
   "execution_count": 68,
   "id": "5b8be06c",
   "metadata": {},
   "outputs": [
    {
     "name": "stdout",
     "output_type": "stream",
     "text": [
      "vacuum cleaners PRODUCT    Objects, vehicles, foods, etc. (not services)\n",
      "vacuum-cleaners PRODUCT    Objects, vehicles, foods, etc. (not services)\n"
     ]
    }
   ],
   "source": [
    "doc.ents = list(doc.ents) + new_ents\n",
    "\n",
    "show_ents(doc)"
   ]
  },
  {
   "cell_type": "code",
   "execution_count": null,
   "id": "e16614a7",
   "metadata": {},
   "outputs": [],
   "source": []
  }
 ],
 "metadata": {
  "kernelspec": {
   "display_name": "Python 3 (ipykernel)",
   "language": "python",
   "name": "python3"
  },
  "language_info": {
   "codemirror_mode": {
    "name": "ipython",
    "version": 3
   },
   "file_extension": ".py",
   "mimetype": "text/x-python",
   "name": "python",
   "nbconvert_exporter": "python",
   "pygments_lexer": "ipython3",
   "version": "3.7.16"
  }
 },
 "nbformat": 4,
 "nbformat_minor": 5
}
