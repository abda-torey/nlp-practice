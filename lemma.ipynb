{
 "cells": [
  {
   "cell_type": "code",
   "execution_count": 1,
   "id": "7282d6f8",
   "metadata": {},
   "outputs": [],
   "source": [
    "import spacy"
   ]
  },
  {
   "cell_type": "code",
   "execution_count": 2,
   "id": "3686f57a",
   "metadata": {},
   "outputs": [],
   "source": [
    "nlp = spacy.load('en_core_web_sm')"
   ]
  },
  {
   "cell_type": "code",
   "execution_count": 3,
   "id": "45f2e749",
   "metadata": {},
   "outputs": [],
   "source": [
    "doc = nlp(u'I am going to participate running competition as a runner by running 2 km in the race coming up.')"
   ]
  },
  {
   "cell_type": "code",
   "execution_count": 4,
   "id": "7961d653",
   "metadata": {},
   "outputs": [
    {
     "name": "stdout",
     "output_type": "stream",
     "text": [
      "I \t PRON \t 561228191312463089 \t -PRON-\n",
      "am \t VERB \t 10382539506755952630 \t be\n",
      "going \t VERB \t 8004577259940138793 \t go\n",
      "to \t PART \t 3791531372978436496 \t to\n",
      "participate \t VERB \t 4176336786957309062 \t participate\n",
      "running \t VERB \t 12767647472892411841 \t run\n",
      "competition \t NOUN \t 4661638505416061516 \t competition\n",
      "as \t ADP \t 7437575085468336610 \t as\n",
      "a \t DET \t 11901859001352538922 \t a\n",
      "runner \t NOUN \t 12640964157389618806 \t runner\n",
      "by \t ADP \t 16764210730586636600 \t by\n",
      "running \t VERB \t 12767647472892411841 \t run\n",
      "2 \t NUM \t 15180167692696242062 \t 2\n",
      "km \t NOUN \t 378805508655178951 \t km\n",
      "in \t ADP \t 3002984154512732771 \t in\n",
      "the \t DET \t 7425985699627899538 \t the\n",
      "race \t NOUN \t 8048469955494714898 \t race\n",
      "coming \t VERB \t 5307304325359566725 \t come\n",
      "up \t PART \t 2199259611705938403 \t up\n",
      ". \t PUNCT \t 12646065887601541794 \t .\n"
     ]
    }
   ],
   "source": [
    "for token in doc:\n",
    "    print(token.text,'\\t',token.pos_,'\\t',token.lemma,'\\t',token.lemma_)"
   ]
  },
  {
   "cell_type": "code",
   "execution_count": 5,
   "id": "85c041ab",
   "metadata": {},
   "outputs": [],
   "source": [
    "from spacy.matcher import PhraseMatcher"
   ]
  },
  {
   "cell_type": "code",
   "execution_count": 6,
   "id": "df723e83",
   "metadata": {},
   "outputs": [],
   "source": [
    "matcher = PhraseMatcher(nlp.vocab)"
   ]
  },
  {
   "cell_type": "code",
   "execution_count": 7,
   "id": "fee6d8ab",
   "metadata": {},
   "outputs": [],
   "source": [
    "with open('../UPDATED_NLP_COURSE/TextFiles/reaganomics.txt') as f:\n",
    "    doc1 = nlp(f.read())"
   ]
  },
  {
   "cell_type": "code",
   "execution_count": 15,
   "id": "87cc8e94",
   "metadata": {},
   "outputs": [],
   "source": [
    "# create a list of match phrases\n",
    "phrase_list = ['voodo economics','supply-side economics','trickle-down economics','data science','data-scientist','pipeline']"
   ]
  },
  {
   "cell_type": "code",
   "execution_count": 16,
   "id": "5036d2e7",
   "metadata": {},
   "outputs": [],
   "source": [
    "phrase_patterns = [nlp(text) for text in phrase_list]"
   ]
  },
  {
   "cell_type": "code",
   "execution_count": 17,
   "id": "f37ec676",
   "metadata": {},
   "outputs": [
    {
     "data": {
      "text/plain": [
       "[voodo economics,\n",
       " supply-side economics,\n",
       " trickle-down economics,\n",
       " data science,\n",
       " data-scientist,\n",
       " pipeline]"
      ]
     },
     "execution_count": 17,
     "metadata": {},
     "output_type": "execute_result"
    }
   ],
   "source": [
    "phrase_patterns"
   ]
  },
  {
   "cell_type": "code",
   "execution_count": 18,
   "id": "88eea5a1",
   "metadata": {},
   "outputs": [
    {
     "data": {
      "text/plain": [
       "spacy.tokens.doc.Doc"
      ]
     },
     "execution_count": 18,
     "metadata": {},
     "output_type": "execute_result"
    }
   ],
   "source": [
    "type(phrase_patterns[0])"
   ]
  },
  {
   "cell_type": "code",
   "execution_count": 19,
   "id": "b9717c55",
   "metadata": {},
   "outputs": [],
   "source": [
    "matcher.add('AI-Matcher',None,*phrase_patterns)"
   ]
  },
  {
   "cell_type": "code",
   "execution_count": 20,
   "id": "0b403a25",
   "metadata": {},
   "outputs": [],
   "source": [
    "found_matches = matcher(doc1)"
   ]
  },
  {
   "cell_type": "code",
   "execution_count": 25,
   "id": "9f027f53",
   "metadata": {},
   "outputs": [
    {
     "name": "stdout",
     "output_type": "stream",
     "text": [
      "3467706216232414836 AI-Matcher 41 45 are commonly associated with supply-side economics, referred to as trickle\n",
      "3467706216232414836 AI-Matcher 49 53 , referred to as trickle-down economics or voodoo economics by political\n",
      "3467706216232414836 AI-Matcher 673 677 a following from the supply-side economics movement, which formed in\n",
      "3467706216232414836 AI-Matcher 2985 2989 widely known as \"trickle-down economics\", due to the\n"
     ]
    }
   ],
   "source": [
    "for match_id, start, end in found_matches:\n",
    "    string_id = nlp.vocab.strings[match_id]  # get string representation\n",
    "    span = doc1[start-4:end+5]                    # get the matched span\n",
    "    print(match_id, string_id, start, end, span.text)"
   ]
  },
  {
   "cell_type": "code",
   "execution_count": null,
   "id": "f34fd921",
   "metadata": {},
   "outputs": [],
   "source": []
  }
 ],
 "metadata": {
  "kernelspec": {
   "display_name": "Python 3 (ipykernel)",
   "language": "python",
   "name": "python3"
  },
  "language_info": {
   "codemirror_mode": {
    "name": "ipython",
    "version": 3
   },
   "file_extension": ".py",
   "mimetype": "text/x-python",
   "name": "python",
   "nbconvert_exporter": "python",
   "pygments_lexer": "ipython3",
   "version": "3.7.16"
  }
 },
 "nbformat": 4,
 "nbformat_minor": 5
}
