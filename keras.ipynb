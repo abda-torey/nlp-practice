{
 "cells": [
  {
   "cell_type": "code",
   "execution_count": 1,
   "id": "0d803539",
   "metadata": {},
   "outputs": [],
   "source": [
    "import numpy as np"
   ]
  },
  {
   "cell_type": "code",
   "execution_count": 2,
   "id": "35fc198d",
   "metadata": {},
   "outputs": [],
   "source": [
    "from sklearn.datasets import load_iris"
   ]
  },
  {
   "cell_type": "code",
   "execution_count": 3,
   "id": "42749a32",
   "metadata": {},
   "outputs": [],
   "source": [
    "iris = load_iris()"
   ]
  },
  {
   "cell_type": "code",
   "execution_count": 4,
   "id": "dd2eade6",
   "metadata": {},
   "outputs": [
    {
     "data": {
      "text/plain": [
       "sklearn.utils.Bunch"
      ]
     },
     "execution_count": 4,
     "metadata": {},
     "output_type": "execute_result"
    }
   ],
   "source": [
    "type(iris)"
   ]
  },
  {
   "cell_type": "code",
   "execution_count": 5,
   "id": "19983c4f",
   "metadata": {},
   "outputs": [
    {
     "name": "stdout",
     "output_type": "stream",
     "text": [
      ".. _iris_dataset:\n",
      "\n",
      "Iris plants dataset\n",
      "--------------------\n",
      "\n",
      "**Data Set Characteristics:**\n",
      "\n",
      "    :Number of Instances: 150 (50 in each of three classes)\n",
      "    :Number of Attributes: 4 numeric, predictive attributes and the class\n",
      "    :Attribute Information:\n",
      "        - sepal length in cm\n",
      "        - sepal width in cm\n",
      "        - petal length in cm\n",
      "        - petal width in cm\n",
      "        - class:\n",
      "                - Iris-Setosa\n",
      "                - Iris-Versicolour\n",
      "                - Iris-Virginica\n",
      "                \n",
      "    :Summary Statistics:\n",
      "\n",
      "    ============== ==== ==== ======= ===== ====================\n",
      "                    Min  Max   Mean    SD   Class Correlation\n",
      "    ============== ==== ==== ======= ===== ====================\n",
      "    sepal length:   4.3  7.9   5.84   0.83    0.7826\n",
      "    sepal width:    2.0  4.4   3.05   0.43   -0.4194\n",
      "    petal length:   1.0  6.9   3.76   1.76    0.9490  (high!)\n",
      "    petal width:    0.1  2.5   1.20   0.76    0.9565  (high!)\n",
      "    ============== ==== ==== ======= ===== ====================\n",
      "\n",
      "    :Missing Attribute Values: None\n",
      "    :Class Distribution: 33.3% for each of 3 classes.\n",
      "    :Creator: R.A. Fisher\n",
      "    :Donor: Michael Marshall (MARSHALL%PLU@io.arc.nasa.gov)\n",
      "    :Date: July, 1988\n",
      "\n",
      "The famous Iris database, first used by Sir R.A. Fisher. The dataset is taken\n",
      "from Fisher's paper. Note that it's the same as in R, but not as in the UCI\n",
      "Machine Learning Repository, which has two wrong data points.\n",
      "\n",
      "This is perhaps the best known database to be found in the\n",
      "pattern recognition literature.  Fisher's paper is a classic in the field and\n",
      "is referenced frequently to this day.  (See Duda & Hart, for example.)  The\n",
      "data set contains 3 classes of 50 instances each, where each class refers to a\n",
      "type of iris plant.  One class is linearly separable from the other 2; the\n",
      "latter are NOT linearly separable from each other.\n",
      "\n",
      ".. topic:: References\n",
      "\n",
      "   - Fisher, R.A. \"The use of multiple measurements in taxonomic problems\"\n",
      "     Annual Eugenics, 7, Part II, 179-188 (1936); also in \"Contributions to\n",
      "     Mathematical Statistics\" (John Wiley, NY, 1950).\n",
      "   - Duda, R.O., & Hart, P.E. (1973) Pattern Classification and Scene Analysis.\n",
      "     (Q327.D83) John Wiley & Sons.  ISBN 0-471-22361-1.  See page 218.\n",
      "   - Dasarathy, B.V. (1980) \"Nosing Around the Neighborhood: A New System\n",
      "     Structure and Classification Rule for Recognition in Partially Exposed\n",
      "     Environments\".  IEEE Transactions on Pattern Analysis and Machine\n",
      "     Intelligence, Vol. PAMI-2, No. 1, 67-71.\n",
      "   - Gates, G.W. (1972) \"The Reduced Nearest Neighbor Rule\".  IEEE Transactions\n",
      "     on Information Theory, May 1972, 431-433.\n",
      "   - See also: 1988 MLC Proceedings, 54-64.  Cheeseman et al\"s AUTOCLASS II\n",
      "     conceptual clustering system finds 3 classes in the data.\n",
      "   - Many, many more ...\n"
     ]
    }
   ],
   "source": [
    "print(iris.DESCR)"
   ]
  },
  {
   "cell_type": "code",
   "execution_count": 6,
   "id": "a934bbeb",
   "metadata": {},
   "outputs": [],
   "source": [
    "X = iris.data"
   ]
  },
  {
   "cell_type": "code",
   "execution_count": 7,
   "id": "a4d00f9d",
   "metadata": {},
   "outputs": [],
   "source": [
    "y = iris.target"
   ]
  },
  {
   "cell_type": "code",
   "execution_count": 8,
   "id": "177bb00e",
   "metadata": {},
   "outputs": [],
   "source": [
    "from tensorflow.keras.utils import to_categorical"
   ]
  },
  {
   "cell_type": "code",
   "execution_count": 9,
   "id": "8a80ec34",
   "metadata": {},
   "outputs": [],
   "source": [
    "y = to_categorical(y)"
   ]
  },
  {
   "cell_type": "code",
   "execution_count": 11,
   "id": "51104d12",
   "metadata": {},
   "outputs": [],
   "source": [
    "from sklearn.model_selection import train_test_split"
   ]
  },
  {
   "cell_type": "code",
   "execution_count": 12,
   "id": "3cc11a8c",
   "metadata": {},
   "outputs": [],
   "source": [
    "X_train, X_test, y_train, y_test = train_test_split(X,y,test_size=0.33,random_state=42)"
   ]
  },
  {
   "cell_type": "code",
   "execution_count": 16,
   "id": "a6f6d442",
   "metadata": {},
   "outputs": [],
   "source": [
    "from sklearn.preprocessing import MinMaxScaler"
   ]
  },
  {
   "cell_type": "code",
   "execution_count": 18,
   "id": "8b64e2b5",
   "metadata": {},
   "outputs": [],
   "source": [
    "Scaler_Object = MinMaxScaler()"
   ]
  },
  {
   "cell_type": "code",
   "execution_count": 21,
   "id": "a336d569",
   "metadata": {},
   "outputs": [],
   "source": [
    "Scaler_Object.fit(X_train)\n",
    "\n",
    "scaled_X_train = Scaler_Object.transform(X_train)"
   ]
  },
  {
   "cell_type": "code",
   "execution_count": 22,
   "id": "aa42660e",
   "metadata": {},
   "outputs": [],
   "source": [
    "scaled_X_test = Scaler_Object.transform(X_test)"
   ]
  },
  {
   "cell_type": "code",
   "execution_count": 25,
   "id": "1238f73c",
   "metadata": {},
   "outputs": [],
   "source": [
    "#scaled_X_train"
   ]
  },
  {
   "cell_type": "code",
   "execution_count": 26,
   "id": "d25fd77f",
   "metadata": {},
   "outputs": [],
   "source": [
    "from tensorflow.keras.models import Sequential\n",
    "from tensorflow.keras.layers import Dense"
   ]
  },
  {
   "cell_type": "code",
   "execution_count": 27,
   "id": "24824d7c",
   "metadata": {},
   "outputs": [
    {
     "name": "stdout",
     "output_type": "stream",
     "text": [
      "WARNING:tensorflow:From C:\\Users\\Torey\\anaconda3\\envs\\nlp_course\\lib\\site-packages\\tensorflow\\python\\ops\\resource_variable_ops.py:435: colocate_with (from tensorflow.python.framework.ops) is deprecated and will be removed in a future version.\n",
      "Instructions for updating:\n",
      "Colocations handled automatically by placer.\n"
     ]
    }
   ],
   "source": [
    "model = Sequential()\n",
    "model.add(Dense(8,input_dim=4,activation='relu'))\n",
    "model.add(Dense(8,input_dim=4,activation='relu'))\n",
    "model.add(Dense(3,activation='softmax'))\n",
    "model.compile(loss='categorical_crossentropy',optimizer='adam',metrics=['accuracy'])"
   ]
  },
  {
   "cell_type": "code",
   "execution_count": 32,
   "id": "b8594d35",
   "metadata": {},
   "outputs": [
    {
     "name": "stdout",
     "output_type": "stream",
     "text": [
      "_________________________________________________________________\n",
      "Layer (type)                 Output Shape              Param #   \n",
      "=================================================================\n",
      "dense (Dense)                (None, 8)                 40        \n",
      "_________________________________________________________________\n",
      "dense_1 (Dense)              (None, 8)                 72        \n",
      "_________________________________________________________________\n",
      "dense_2 (Dense)              (None, 3)                 27        \n",
      "=================================================================\n",
      "Total params: 139\n",
      "Trainable params: 139\n",
      "Non-trainable params: 0\n",
      "_________________________________________________________________\n"
     ]
    }
   ],
   "source": [
    "model.summary()"
   ]
  },
  {
   "cell_type": "code",
   "execution_count": 33,
   "id": "2388876d",
   "metadata": {},
   "outputs": [
    {
     "name": "stdout",
     "output_type": "stream",
     "text": [
      "Epoch 1/150\n",
      " - 0s - loss: 0.1328 - acc: 0.9700\n",
      "Epoch 2/150\n",
      " - 0s - loss: 0.1323 - acc: 0.9700\n",
      "Epoch 3/150\n",
      " - 0s - loss: 0.1315 - acc: 0.9700\n",
      "Epoch 4/150\n",
      " - 0s - loss: 0.1307 - acc: 0.9700\n",
      "Epoch 5/150\n",
      " - 0s - loss: 0.1303 - acc: 0.9700\n",
      "Epoch 6/150\n",
      " - 0s - loss: 0.1295 - acc: 0.9700\n",
      "Epoch 7/150\n",
      " - 0s - loss: 0.1288 - acc: 0.9700\n",
      "Epoch 8/150\n",
      " - 0s - loss: 0.1284 - acc: 0.9700\n",
      "Epoch 9/150\n",
      " - 0s - loss: 0.1281 - acc: 0.9700\n",
      "Epoch 10/150\n",
      " - 0s - loss: 0.1274 - acc: 0.9700\n",
      "Epoch 11/150\n",
      " - 0s - loss: 0.1272 - acc: 0.9700\n",
      "Epoch 12/150\n",
      " - 0s - loss: 0.1262 - acc: 0.9700\n",
      "Epoch 13/150\n",
      " - 0s - loss: 0.1256 - acc: 0.9700\n",
      "Epoch 14/150\n",
      " - 0s - loss: 0.1246 - acc: 0.9700\n",
      "Epoch 15/150\n",
      " - 0s - loss: 0.1239 - acc: 0.9700\n",
      "Epoch 16/150\n",
      " - 0s - loss: 0.1235 - acc: 0.9700\n",
      "Epoch 17/150\n",
      " - 0s - loss: 0.1230 - acc: 0.9700\n",
      "Epoch 18/150\n",
      " - 0s - loss: 0.1228 - acc: 0.9700\n",
      "Epoch 19/150\n",
      " - 0s - loss: 0.1222 - acc: 0.9700\n",
      "Epoch 20/150\n",
      " - 0s - loss: 0.1211 - acc: 0.9700\n",
      "Epoch 21/150\n",
      " - 0s - loss: 0.1210 - acc: 0.9700\n",
      "Epoch 22/150\n",
      " - 0s - loss: 0.1195 - acc: 0.9700\n",
      "Epoch 23/150\n",
      " - 0s - loss: 0.1202 - acc: 0.9800\n",
      "Epoch 24/150\n",
      " - 0s - loss: 0.1195 - acc: 0.9700\n",
      "Epoch 25/150\n",
      " - 0s - loss: 0.1178 - acc: 0.9700\n",
      "Epoch 26/150\n",
      " - 0s - loss: 0.1181 - acc: 0.9700\n",
      "Epoch 27/150\n",
      " - 0s - loss: 0.1196 - acc: 0.9700\n",
      "Epoch 28/150\n",
      " - 0s - loss: 0.1175 - acc: 0.9700\n",
      "Epoch 29/150\n",
      " - 0s - loss: 0.1154 - acc: 0.9700\n",
      "Epoch 30/150\n",
      " - 0s - loss: 0.1161 - acc: 0.9700\n",
      "Epoch 31/150\n",
      " - 0s - loss: 0.1160 - acc: 0.9700\n",
      "Epoch 32/150\n",
      " - 0s - loss: 0.1154 - acc: 0.9700\n",
      "Epoch 33/150\n",
      " - 0s - loss: 0.1146 - acc: 0.9700\n",
      "Epoch 34/150\n",
      " - 0s - loss: 0.1136 - acc: 0.9800\n",
      "Epoch 35/150\n",
      " - 0s - loss: 0.1137 - acc: 0.9700\n",
      "Epoch 36/150\n",
      " - 0s - loss: 0.1126 - acc: 0.9700\n",
      "Epoch 37/150\n",
      " - 0s - loss: 0.1131 - acc: 0.9700\n",
      "Epoch 38/150\n",
      " - 0s - loss: 0.1130 - acc: 0.9700\n",
      "Epoch 39/150\n",
      " - 0s - loss: 0.1121 - acc: 0.9700\n",
      "Epoch 40/150\n",
      " - 0s - loss: 0.1114 - acc: 0.9700\n",
      "Epoch 41/150\n",
      " - 0s - loss: 0.1103 - acc: 0.9700\n",
      "Epoch 42/150\n",
      " - 0s - loss: 0.1099 - acc: 0.9700\n",
      "Epoch 43/150\n",
      " - 0s - loss: 0.1101 - acc: 0.9700\n",
      "Epoch 44/150\n",
      " - 0s - loss: 0.1096 - acc: 0.9700\n",
      "Epoch 45/150\n",
      " - 0s - loss: 0.1094 - acc: 0.9700\n",
      "Epoch 46/150\n",
      " - 0s - loss: 0.1080 - acc: 0.9700\n",
      "Epoch 47/150\n",
      " - 0s - loss: 0.1093 - acc: 0.9700\n",
      "Epoch 48/150\n",
      " - 0s - loss: 0.1091 - acc: 0.9700\n",
      "Epoch 49/150\n",
      " - 0s - loss: 0.1074 - acc: 0.9700\n",
      "Epoch 50/150\n",
      " - 0s - loss: 0.1066 - acc: 0.9700\n",
      "Epoch 51/150\n",
      " - 0s - loss: 0.1065 - acc: 0.9700\n",
      "Epoch 52/150\n",
      " - 0s - loss: 0.1061 - acc: 0.9700\n",
      "Epoch 53/150\n",
      " - 0s - loss: 0.1062 - acc: 0.9700\n",
      "Epoch 54/150\n",
      " - 0s - loss: 0.1057 - acc: 0.9700\n",
      "Epoch 55/150\n",
      " - 0s - loss: 0.1050 - acc: 0.9700\n",
      "Epoch 56/150\n",
      " - 0s - loss: 0.1046 - acc: 0.9700\n",
      "Epoch 57/150\n",
      " - 0s - loss: 0.1042 - acc: 0.9700\n",
      "Epoch 58/150\n",
      " - 0s - loss: 0.1040 - acc: 0.9700\n",
      "Epoch 59/150\n",
      " - 0s - loss: 0.1035 - acc: 0.9800\n",
      "Epoch 60/150\n",
      " - 0s - loss: 0.1032 - acc: 0.9800\n",
      "Epoch 61/150\n",
      " - 0s - loss: 0.1028 - acc: 0.9800\n",
      "Epoch 62/150\n",
      " - 0s - loss: 0.1028 - acc: 0.9700\n",
      "Epoch 63/150\n",
      " - 0s - loss: 0.1034 - acc: 0.9700\n",
      "Epoch 64/150\n",
      " - 0s - loss: 0.1026 - acc: 0.9700\n",
      "Epoch 65/150\n",
      " - 0s - loss: 0.1015 - acc: 0.9700\n",
      "Epoch 66/150\n",
      " - 0s - loss: 0.1011 - acc: 0.9700\n",
      "Epoch 67/150\n",
      " - 0s - loss: 0.1002 - acc: 0.9700\n",
      "Epoch 68/150\n",
      " - 0s - loss: 0.1000 - acc: 0.9700\n",
      "Epoch 69/150\n",
      " - 0s - loss: 0.1003 - acc: 0.9700\n",
      "Epoch 70/150\n",
      " - 0s - loss: 0.1000 - acc: 0.9700\n",
      "Epoch 71/150\n",
      " - 0s - loss: 0.1002 - acc: 0.9700\n",
      "Epoch 72/150\n",
      " - 0s - loss: 0.0998 - acc: 0.9700\n",
      "Epoch 73/150\n",
      " - 0s - loss: 0.0985 - acc: 0.9700\n",
      "Epoch 74/150\n",
      " - 0s - loss: 0.0982 - acc: 0.9700\n",
      "Epoch 75/150\n",
      " - 0s - loss: 0.0989 - acc: 0.9700\n",
      "Epoch 76/150\n",
      " - 0s - loss: 0.0982 - acc: 0.9700\n",
      "Epoch 77/150\n",
      " - 0s - loss: 0.0987 - acc: 0.9700\n",
      "Epoch 78/150\n",
      " - 0s - loss: 0.0987 - acc: 0.9700\n",
      "Epoch 79/150\n",
      " - 0s - loss: 0.0964 - acc: 0.9700\n",
      "Epoch 80/150\n",
      " - 0s - loss: 0.0966 - acc: 0.9800\n",
      "Epoch 81/150\n",
      " - 0s - loss: 0.0962 - acc: 0.9800\n",
      "Epoch 82/150\n",
      " - 0s - loss: 0.0963 - acc: 0.9800\n",
      "Epoch 83/150\n",
      " - 0s - loss: 0.0955 - acc: 0.9800\n",
      "Epoch 84/150\n",
      " - 0s - loss: 0.0957 - acc: 0.9700\n",
      "Epoch 85/150\n",
      " - 0s - loss: 0.0949 - acc: 0.9700\n",
      "Epoch 86/150\n",
      " - 0s - loss: 0.0950 - acc: 0.9700\n",
      "Epoch 87/150\n",
      " - 0s - loss: 0.0948 - acc: 0.9700\n",
      "Epoch 88/150\n",
      " - 0s - loss: 0.0947 - acc: 0.9700\n",
      "Epoch 89/150\n",
      " - 0s - loss: 0.0943 - acc: 0.9700\n",
      "Epoch 90/150\n",
      " - 0s - loss: 0.0940 - acc: 0.9700\n",
      "Epoch 91/150\n",
      " - 0s - loss: 0.0935 - acc: 0.9700\n",
      "Epoch 92/150\n",
      " - 0s - loss: 0.0938 - acc: 0.9700\n",
      "Epoch 93/150\n",
      " - 0s - loss: 0.0935 - acc: 0.9700\n",
      "Epoch 94/150\n",
      " - 0s - loss: 0.0930 - acc: 0.9700\n",
      "Epoch 95/150\n",
      " - 0s - loss: 0.0919 - acc: 0.9700\n",
      "Epoch 96/150\n",
      " - 0s - loss: 0.0917 - acc: 0.9800\n",
      "Epoch 97/150\n",
      " - 0s - loss: 0.0918 - acc: 0.9800\n",
      "Epoch 98/150\n",
      " - 0s - loss: 0.0915 - acc: 0.9800\n",
      "Epoch 99/150\n",
      " - 0s - loss: 0.0909 - acc: 0.9800\n",
      "Epoch 100/150\n",
      " - 0s - loss: 0.0905 - acc: 0.9800\n",
      "Epoch 101/150\n",
      " - 0s - loss: 0.0904 - acc: 0.9800\n",
      "Epoch 102/150\n",
      " - 0s - loss: 0.0903 - acc: 0.9800\n",
      "Epoch 103/150\n",
      " - 0s - loss: 0.0899 - acc: 0.9700\n",
      "Epoch 104/150\n",
      " - 0s - loss: 0.0898 - acc: 0.9700\n",
      "Epoch 105/150\n",
      " - 0s - loss: 0.0899 - acc: 0.9700\n",
      "Epoch 106/150\n",
      " - 0s - loss: 0.0896 - acc: 0.9700\n",
      "Epoch 107/150\n",
      " - 0s - loss: 0.0894 - acc: 0.9700\n",
      "Epoch 108/150\n",
      " - 0s - loss: 0.0889 - acc: 0.9700\n",
      "Epoch 109/150\n",
      " - 0s - loss: 0.0888 - acc: 0.9700\n",
      "Epoch 110/150\n",
      " - 0s - loss: 0.0880 - acc: 0.9800\n",
      "Epoch 111/150\n",
      " - 0s - loss: 0.0881 - acc: 0.9800\n",
      "Epoch 112/150\n",
      " - 0s - loss: 0.0880 - acc: 0.9800\n",
      "Epoch 113/150\n",
      " - 0s - loss: 0.0879 - acc: 0.9800\n",
      "Epoch 114/150\n",
      " - 0s - loss: 0.0876 - acc: 0.9800\n",
      "Epoch 115/150\n",
      " - 0s - loss: 0.0874 - acc: 0.9800\n",
      "Epoch 116/150\n",
      " - 0s - loss: 0.0869 - acc: 0.9800\n",
      "Epoch 117/150\n",
      " - 0s - loss: 0.0867 - acc: 0.9800\n",
      "Epoch 118/150\n",
      " - 0s - loss: 0.0864 - acc: 0.9800\n",
      "Epoch 119/150\n",
      " - 0s - loss: 0.0862 - acc: 0.9700\n",
      "Epoch 120/150\n",
      " - 0s - loss: 0.0863 - acc: 0.9700\n",
      "Epoch 121/150\n",
      " - 0s - loss: 0.0863 - acc: 0.9700\n",
      "Epoch 122/150\n",
      " - 0s - loss: 0.0860 - acc: 0.9700\n",
      "Epoch 123/150\n",
      " - 0s - loss: 0.0857 - acc: 0.9700\n",
      "Epoch 124/150\n",
      " - 0s - loss: 0.0853 - acc: 0.9700\n",
      "Epoch 125/150\n",
      " - 0s - loss: 0.0853 - acc: 0.9800\n",
      "Epoch 126/150\n",
      " - 0s - loss: 0.0860 - acc: 0.9700\n",
      "Epoch 127/150\n",
      " - 0s - loss: 0.0866 - acc: 0.9700\n",
      "Epoch 128/150\n",
      " - 0s - loss: 0.0866 - acc: 0.9700\n",
      "Epoch 129/150\n",
      " - 0s - loss: 0.0858 - acc: 0.9700\n",
      "Epoch 130/150\n",
      " - 0s - loss: 0.0836 - acc: 0.9700\n",
      "Epoch 131/150\n",
      " - 0s - loss: 0.0840 - acc: 0.9700\n",
      "Epoch 132/150\n",
      " - 0s - loss: 0.0849 - acc: 0.9700\n",
      "Epoch 133/150\n",
      " - 0s - loss: 0.0834 - acc: 0.9700\n",
      "Epoch 134/150\n",
      " - 0s - loss: 0.0841 - acc: 0.9800\n",
      "Epoch 135/150\n",
      " - 0s - loss: 0.0832 - acc: 0.9800\n",
      "Epoch 136/150\n",
      " - 0s - loss: 0.0831 - acc: 0.9800\n",
      "Epoch 137/150\n",
      " - 0s - loss: 0.0820 - acc: 0.9800\n",
      "Epoch 138/150\n",
      " - 0s - loss: 0.0835 - acc: 0.9700\n",
      "Epoch 139/150\n",
      " - 0s - loss: 0.0852 - acc: 0.9700\n",
      "Epoch 140/150\n",
      " - 0s - loss: 0.0877 - acc: 0.9700\n",
      "Epoch 141/150\n",
      " - 0s - loss: 0.0874 - acc: 0.9700\n",
      "Epoch 142/150\n",
      " - 0s - loss: 0.0858 - acc: 0.9700\n",
      "Epoch 143/150\n",
      " - 0s - loss: 0.0843 - acc: 0.9700\n",
      "Epoch 144/150\n",
      " - 0s - loss: 0.0819 - acc: 0.9700\n",
      "Epoch 145/150\n",
      " - 0s - loss: 0.0815 - acc: 0.9700\n",
      "Epoch 146/150\n",
      " - 0s - loss: 0.0807 - acc: 0.9800\n",
      "Epoch 147/150\n",
      " - 0s - loss: 0.0806 - acc: 0.9800\n",
      "Epoch 148/150\n",
      " - 0s - loss: 0.0806 - acc: 0.9800\n",
      "Epoch 149/150\n",
      " - 0s - loss: 0.0809 - acc: 0.9800\n",
      "Epoch 150/150\n",
      " - 0s - loss: 0.0805 - acc: 0.9800\n"
     ]
    },
    {
     "data": {
      "text/plain": [
       "<tensorflow.python.keras.callbacks.History at 0x1f6626885c8>"
      ]
     },
     "execution_count": 33,
     "metadata": {},
     "output_type": "execute_result"
    }
   ],
   "source": [
    "model.fit(scaled_X_train,y_train,epochs=150,verbose=2)"
   ]
  },
  {
   "cell_type": "code",
   "execution_count": null,
   "id": "bf59ffa3",
   "metadata": {},
   "outputs": [],
   "source": []
  }
 ],
 "metadata": {
  "kernelspec": {
   "display_name": "Python 3 (ipykernel)",
   "language": "python",
   "name": "python3"
  },
  "language_info": {
   "codemirror_mode": {
    "name": "ipython",
    "version": 3
   },
   "file_extension": ".py",
   "mimetype": "text/x-python",
   "name": "python",
   "nbconvert_exporter": "python",
   "pygments_lexer": "ipython3",
   "version": "3.7.16"
  }
 },
 "nbformat": 4,
 "nbformat_minor": 5
}
